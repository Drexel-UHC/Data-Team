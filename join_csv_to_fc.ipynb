{
 "cells": [
  {
   "cell_type": "code",
   "execution_count": 5,
   "metadata": {},
   "outputs": [],
   "source": [
    "import os"
   ]
  },
  {
   "cell_type": "code",
   "execution_count": 24,
   "metadata": {},
   "outputs": [],
   "source": [
    "## ARCPY CSV_TO_FC FUNC\n",
    "def join_csv_to_fc(in_fc, join_table, in_field, join_field, join_field_len, out_gdb=arcpy.env.workspace, out_fc_name=None):\n",
    "    \"\"\"Joins a CSV file to a feature class and saves the result as a new feature class in a geodatabase.\n",
    "\n",
    "    This function creates a schema.ini file for the specified CSV file, converts the CSV into a \n",
    "    geodatabase table, performs a join with the input feature class, and copies the joined \n",
    "    features into a new feature class. The function can also handle appending to an existing \n",
    "    schema.ini file or creating a new one if it does not exist.\n",
    "\n",
    "    Args:\n",
    "        in_fc (str): The path to the input feature class that the csv will join to.\n",
    "        join_table (str): The path to the CSV file to be joined.\n",
    "        in_field (str): The field name in the input feature class used for the join.\n",
    "        join_field (str): The field name in the CSV file used for the join.\n",
    "        join_field_len (int): The length of the join field in the CSV file (used for schema.ini).\n",
    "        out_gdb (str, optional): The path to the output geodatabase where the new feature class will be saved. \n",
    "                                 Defaults to the current ArcPy workspace.\n",
    "        out_fc_name (str, optional): The name for the output feature class. If None, defaults to '{table_name_noext}_fc'.\n",
    "    \n",
    "    Raises:\n",
    "        Exception: If any of the ArcPy operations fail.\n",
    "\n",
    "    Returns:\n",
    "        Returns a new feature class with the joined data.\n",
    "    \"\"\"\n",
    "        \n",
    "    # create schema ini for csv\n",
    "    table_path = os.path.dirname(join_table)\n",
    "    table_name = os.path.basename(join_table)\n",
    "    \n",
    "    # Path to the schema.ini file\n",
    "    schema_path = os.path.join(table_path, \"schema.ini\")\n",
    "\n",
    "    # Create or overwrite schema.ini\n",
    "    if os.path.exists(schema_path):\n",
    "        action = \"Appending to\"\n",
    "    else:\n",
    "        action = \"Creating\"\n",
    "        \n",
    "    with open(schema_path, 'a') as schema_file:\n",
    "        # Write the file-specific section in schema.ini\n",
    "        schema_file.write(f\"[{table_name}]\\n\")\n",
    "        schema_file.write(\"Format=CSVDelimited\\n\")\n",
    "\n",
    "        # define data type for col1\n",
    "        schema_file.write(f\"Col1={join_field} Text Width {join_field_len}\\n\")\n",
    "\n",
    "        schema_file.write(\"\\n\")\n",
    "        \n",
    "    print(f'{action} schema.ini')\n",
    "            \n",
    "    # define table name\n",
    "    table_name_noext = os.path.splitext(table_name)[0]\n",
    "    \n",
    "    # Convert CSV to GDB table using arcpy.conversion.TableToTable\n",
    "    arcpy.conversion.TableToTable(\n",
    "        in_rows=join_table,\n",
    "        out_path=out_gdb,\n",
    "        out_name=table_name_noext\n",
    "    )\n",
    "    print('converted csv to gdb table')\n",
    "    # Make feature layer from input feature class\n",
    "    layer_name = \"temp_join\"\n",
    "    arcpy.management.MakeFeatureLayer(in_fc, layer_name)\n",
    "    \n",
    "    # Perform the join\n",
    "    arcpy.management.AddJoin(\n",
    "                in_layer_or_view=layer_name,\n",
    "                in_field=in_field,\n",
    "                join_table=table_name_noext,\n",
    "                join_field=join_field\n",
    "             )\n",
    "\n",
    "    if out_fc_name is None:\n",
    "        out_fc_name=f'{table_name_noext}_fc'\n",
    "        \n",
    "    # Copy the joined feature class to a new feature class\n",
    "    arcpy.management.CopyFeatures(\n",
    "        in_features=layer_name,\n",
    "        out_feature_class=os.path.join(out_gdb, out_fc_name)\n",
    "    )\n",
    "    \n",
    "    # Remove join\n",
    "    arcpy.management.Delete(layer_name)\n",
    "\n",
    "    print(f\"Joined {os.path.basename(join_table)} to {os.path.basename(in_fc)} and saved as {out_fc_name}.\")"
   ]
  },
  {
   "cell_type": "code",
   "execution_count": 26,
   "metadata": {},
   "outputs": [
    {
     "name": "stdout",
     "output_type": "stream",
     "text": [
      "Appending to schema.ini\n",
      "converted csv to gdb table\n",
      "Joined segregation_CT10_phl.csv to CT10_PHL_pd and saved as segregation_CT10_phl_fc.\n"
     ]
    }
   ],
   "source": [
    "# EXAMPLE\n",
    "join_csv_to_fc(\n",
    "    in_fc=r'Z:\\UHC_Data\\Census2010_MetroPHL\\Geodatabases\\Census2010_MetroPHL.gdb\\UTM18\\CT10_PHL_pd',\n",
    "    join_table=r'Z:\\UHC_Data\\Disadvantage_Indices\\Workshop_Data\\data\\segregation_CT10_phl.csv',\n",
    "    in_field='GEOID10',\n",
    "    join_field='GEOID10',\n",
    "    join_field_len=11,\n",
    "    out_fc_name=None)"
   ]
  }
 ],
 "metadata": {
  "kernelspec": {
   "display_name": "ArcGISPro",
   "language": "Python",
   "name": "python3"
  },
  "language_info": {
   "file_extension": ".py",
   "name": "python",
   "version": "3"
  }
 },
 "nbformat": 4,
 "nbformat_minor": 2
}
